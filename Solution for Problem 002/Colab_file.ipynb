{
  "nbformat": 4,
  "nbformat_minor": 0,
  "metadata": {
    "colab": {
      "provenance": []
    },
    "kernelspec": {
      "name": "python3",
      "display_name": "Python 3"
    },
    "language_info": {
      "name": "python"
    }
  },
  "cells": [
    {
      "cell_type": "markdown",
      "source": [
        "## Mount drive to access data files"
      ],
      "metadata": {
        "id": "raKtuL_crih8"
      }
    },
    {
      "cell_type": "code",
      "execution_count": 1,
      "metadata": {
        "colab": {
          "base_uri": "https://localhost:8080/"
        },
        "id": "CI8mFWnDIX9r",
        "outputId": "7a370205-c852-4e4e-a5d8-2eae80d4565a"
      },
      "outputs": [
        {
          "output_type": "stream",
          "name": "stdout",
          "text": [
            "Mounted at /content/drive\n"
          ]
        }
      ],
      "source": [
        "from google.colab import drive\n",
        "drive.mount('/content/drive')"
      ]
    },
    {
      "cell_type": "markdown",
      "source": [
        "## Importing library\n"
      ],
      "metadata": {
        "id": "vKdOmVPglvD8"
      }
    },
    {
      "cell_type": "code",
      "source": [
        "import pandas as pd\n",
        "import os\n",
        "import matplotlib.pyplot as plt\n",
        "import seaborn as sns \n",
        "import numpy as np"
      ],
      "metadata": {
        "id": "rppWN95lJNr4"
      },
      "execution_count": 10,
      "outputs": []
    },
    {
      "cell_type": "markdown",
      "source": [
        "## data paths"
      ],
      "metadata": {
        "id": "nwbv6qNXlxSw"
      }
    },
    {
      "cell_type": "code",
      "source": [
        "train_path = '/content/drive/MyDrive/Structured_Data_Assignment/Structured_Data_Assignment/train.parquet'\n",
        "test_path = '/content/drive/MyDrive/Structured_Data_Assignment/Structured_Data_Assignment/test.parquet'"
      ],
      "metadata": {
        "id": "h7E6-SQfItiF"
      },
      "execution_count": 4,
      "outputs": []
    },
    {
      "cell_type": "markdown",
      "source": [
        "## Load the train data\n"
      ],
      "metadata": {
        "id": "QrZM-loMl2d2"
      }
    },
    {
      "cell_type": "code",
      "source": [
        "data= pd.read_parquet(train_path)"
      ],
      "metadata": {
        "id": "YxWTpCkSJebW"
      },
      "execution_count": 16,
      "outputs": []
    },
    {
      "cell_type": "code",
      "source": [
        "data"
      ],
      "metadata": {
        "colab": {
          "base_uri": "https://localhost:8080/",
          "height": 423
        },
        "id": "kdijsNgEJSL3",
        "outputId": "46bb3285-b5a7-4e76-e5cd-bdac6d70d4b2"
      },
      "execution_count": 17,
      "outputs": [
        {
          "output_type": "execute_result",
          "data": {
            "text/plain": [
              "                                   Patient-Uid       Date           Incident\n",
              "0         a0db1e73-1c7c-11ec-ae39-16262ee38c7f 2019-03-09  PRIMARY_DIAGNOSIS\n",
              "1         a0dc93f2-1c7c-11ec-9cd2-16262ee38c7f 2015-05-16  PRIMARY_DIAGNOSIS\n",
              "3         a0dc94c6-1c7c-11ec-a3a0-16262ee38c7f 2018-01-30     SYMPTOM_TYPE_0\n",
              "4         a0dc950b-1c7c-11ec-b6ec-16262ee38c7f 2015-04-22        DRUG_TYPE_0\n",
              "8         a0dc9543-1c7c-11ec-bb63-16262ee38c7f 2016-06-18        DRUG_TYPE_1\n",
              "...                                        ...        ...                ...\n",
              "29080886  a0ee9f75-1c7c-11ec-94c7-16262ee38c7f 2018-07-06        DRUG_TYPE_6\n",
              "29080897  a0ee1284-1c7c-11ec-a3d5-16262ee38c7f 2017-12-29        DRUG_TYPE_6\n",
              "29080900  a0ee9b26-1c7c-11ec-8a40-16262ee38c7f 2018-10-18       DRUG_TYPE_10\n",
              "29080903  a0ee1a92-1c7c-11ec-8341-16262ee38c7f 2015-09-18        DRUG_TYPE_6\n",
              "29080911  a0ee146e-1c7c-11ec-baee-16262ee38c7f 2018-10-05        DRUG_TYPE_1\n",
              "\n",
              "[3220868 rows x 3 columns]"
            ],
            "text/html": [
              "\n",
              "  <div id=\"df-6fbb81f5-4d2b-4d87-9b3b-3647178fe33b\">\n",
              "    <div class=\"colab-df-container\">\n",
              "      <div>\n",
              "<style scoped>\n",
              "    .dataframe tbody tr th:only-of-type {\n",
              "        vertical-align: middle;\n",
              "    }\n",
              "\n",
              "    .dataframe tbody tr th {\n",
              "        vertical-align: top;\n",
              "    }\n",
              "\n",
              "    .dataframe thead th {\n",
              "        text-align: right;\n",
              "    }\n",
              "</style>\n",
              "<table border=\"1\" class=\"dataframe\">\n",
              "  <thead>\n",
              "    <tr style=\"text-align: right;\">\n",
              "      <th></th>\n",
              "      <th>Patient-Uid</th>\n",
              "      <th>Date</th>\n",
              "      <th>Incident</th>\n",
              "    </tr>\n",
              "  </thead>\n",
              "  <tbody>\n",
              "    <tr>\n",
              "      <th>0</th>\n",
              "      <td>a0db1e73-1c7c-11ec-ae39-16262ee38c7f</td>\n",
              "      <td>2019-03-09</td>\n",
              "      <td>PRIMARY_DIAGNOSIS</td>\n",
              "    </tr>\n",
              "    <tr>\n",
              "      <th>1</th>\n",
              "      <td>a0dc93f2-1c7c-11ec-9cd2-16262ee38c7f</td>\n",
              "      <td>2015-05-16</td>\n",
              "      <td>PRIMARY_DIAGNOSIS</td>\n",
              "    </tr>\n",
              "    <tr>\n",
              "      <th>3</th>\n",
              "      <td>a0dc94c6-1c7c-11ec-a3a0-16262ee38c7f</td>\n",
              "      <td>2018-01-30</td>\n",
              "      <td>SYMPTOM_TYPE_0</td>\n",
              "    </tr>\n",
              "    <tr>\n",
              "      <th>4</th>\n",
              "      <td>a0dc950b-1c7c-11ec-b6ec-16262ee38c7f</td>\n",
              "      <td>2015-04-22</td>\n",
              "      <td>DRUG_TYPE_0</td>\n",
              "    </tr>\n",
              "    <tr>\n",
              "      <th>8</th>\n",
              "      <td>a0dc9543-1c7c-11ec-bb63-16262ee38c7f</td>\n",
              "      <td>2016-06-18</td>\n",
              "      <td>DRUG_TYPE_1</td>\n",
              "    </tr>\n",
              "    <tr>\n",
              "      <th>...</th>\n",
              "      <td>...</td>\n",
              "      <td>...</td>\n",
              "      <td>...</td>\n",
              "    </tr>\n",
              "    <tr>\n",
              "      <th>29080886</th>\n",
              "      <td>a0ee9f75-1c7c-11ec-94c7-16262ee38c7f</td>\n",
              "      <td>2018-07-06</td>\n",
              "      <td>DRUG_TYPE_6</td>\n",
              "    </tr>\n",
              "    <tr>\n",
              "      <th>29080897</th>\n",
              "      <td>a0ee1284-1c7c-11ec-a3d5-16262ee38c7f</td>\n",
              "      <td>2017-12-29</td>\n",
              "      <td>DRUG_TYPE_6</td>\n",
              "    </tr>\n",
              "    <tr>\n",
              "      <th>29080900</th>\n",
              "      <td>a0ee9b26-1c7c-11ec-8a40-16262ee38c7f</td>\n",
              "      <td>2018-10-18</td>\n",
              "      <td>DRUG_TYPE_10</td>\n",
              "    </tr>\n",
              "    <tr>\n",
              "      <th>29080903</th>\n",
              "      <td>a0ee1a92-1c7c-11ec-8341-16262ee38c7f</td>\n",
              "      <td>2015-09-18</td>\n",
              "      <td>DRUG_TYPE_6</td>\n",
              "    </tr>\n",
              "    <tr>\n",
              "      <th>29080911</th>\n",
              "      <td>a0ee146e-1c7c-11ec-baee-16262ee38c7f</td>\n",
              "      <td>2018-10-05</td>\n",
              "      <td>DRUG_TYPE_1</td>\n",
              "    </tr>\n",
              "  </tbody>\n",
              "</table>\n",
              "<p>3220868 rows × 3 columns</p>\n",
              "</div>\n",
              "      <button class=\"colab-df-convert\" onclick=\"convertToInteractive('df-6fbb81f5-4d2b-4d87-9b3b-3647178fe33b')\"\n",
              "              title=\"Convert this dataframe to an interactive table.\"\n",
              "              style=\"display:none;\">\n",
              "        \n",
              "  <svg xmlns=\"http://www.w3.org/2000/svg\" height=\"24px\"viewBox=\"0 0 24 24\"\n",
              "       width=\"24px\">\n",
              "    <path d=\"M0 0h24v24H0V0z\" fill=\"none\"/>\n",
              "    <path d=\"M18.56 5.44l.94 2.06.94-2.06 2.06-.94-2.06-.94-.94-2.06-.94 2.06-2.06.94zm-11 1L8.5 8.5l.94-2.06 2.06-.94-2.06-.94L8.5 2.5l-.94 2.06-2.06.94zm10 10l.94 2.06.94-2.06 2.06-.94-2.06-.94-.94-2.06-.94 2.06-2.06.94z\"/><path d=\"M17.41 7.96l-1.37-1.37c-.4-.4-.92-.59-1.43-.59-.52 0-1.04.2-1.43.59L10.3 9.45l-7.72 7.72c-.78.78-.78 2.05 0 2.83L4 21.41c.39.39.9.59 1.41.59.51 0 1.02-.2 1.41-.59l7.78-7.78 2.81-2.81c.8-.78.8-2.07 0-2.86zM5.41 20L4 18.59l7.72-7.72 1.47 1.35L5.41 20z\"/>\n",
              "  </svg>\n",
              "      </button>\n",
              "      \n",
              "  <style>\n",
              "    .colab-df-container {\n",
              "      display:flex;\n",
              "      flex-wrap:wrap;\n",
              "      gap: 12px;\n",
              "    }\n",
              "\n",
              "    .colab-df-convert {\n",
              "      background-color: #E8F0FE;\n",
              "      border: none;\n",
              "      border-radius: 50%;\n",
              "      cursor: pointer;\n",
              "      display: none;\n",
              "      fill: #1967D2;\n",
              "      height: 32px;\n",
              "      padding: 0 0 0 0;\n",
              "      width: 32px;\n",
              "    }\n",
              "\n",
              "    .colab-df-convert:hover {\n",
              "      background-color: #E2EBFA;\n",
              "      box-shadow: 0px 1px 2px rgba(60, 64, 67, 0.3), 0px 1px 3px 1px rgba(60, 64, 67, 0.15);\n",
              "      fill: #174EA6;\n",
              "    }\n",
              "\n",
              "    [theme=dark] .colab-df-convert {\n",
              "      background-color: #3B4455;\n",
              "      fill: #D2E3FC;\n",
              "    }\n",
              "\n",
              "    [theme=dark] .colab-df-convert:hover {\n",
              "      background-color: #434B5C;\n",
              "      box-shadow: 0px 1px 3px 1px rgba(0, 0, 0, 0.15);\n",
              "      filter: drop-shadow(0px 1px 2px rgba(0, 0, 0, 0.3));\n",
              "      fill: #FFFFFF;\n",
              "    }\n",
              "  </style>\n",
              "\n",
              "      <script>\n",
              "        const buttonEl =\n",
              "          document.querySelector('#df-6fbb81f5-4d2b-4d87-9b3b-3647178fe33b button.colab-df-convert');\n",
              "        buttonEl.style.display =\n",
              "          google.colab.kernel.accessAllowed ? 'block' : 'none';\n",
              "\n",
              "        async function convertToInteractive(key) {\n",
              "          const element = document.querySelector('#df-6fbb81f5-4d2b-4d87-9b3b-3647178fe33b');\n",
              "          const dataTable =\n",
              "            await google.colab.kernel.invokeFunction('convertToInteractive',\n",
              "                                                     [key], {});\n",
              "          if (!dataTable) return;\n",
              "\n",
              "          const docLinkHtml = 'Like what you see? Visit the ' +\n",
              "            '<a target=\"_blank\" href=https://colab.research.google.com/notebooks/data_table.ipynb>data table notebook</a>'\n",
              "            + ' to learn more about interactive tables.';\n",
              "          element.innerHTML = '';\n",
              "          dataTable['output_type'] = 'display_data';\n",
              "          await google.colab.output.renderOutput(dataTable, element);\n",
              "          const docLink = document.createElement('div');\n",
              "          docLink.innerHTML = docLinkHtml;\n",
              "          element.appendChild(docLink);\n",
              "        }\n",
              "      </script>\n",
              "    </div>\n",
              "  </div>\n",
              "  "
            ]
          },
          "metadata": {},
          "execution_count": 17
        }
      ]
    },
    {
      "cell_type": "code",
      "source": [
        "data.info()"
      ],
      "metadata": {
        "colab": {
          "base_uri": "https://localhost:8080/"
        },
        "id": "ebBWI5CcJWxh",
        "outputId": "32b96eea-b259-4648-d96d-5cef6d5bfc18"
      },
      "execution_count": 18,
      "outputs": [
        {
          "output_type": "stream",
          "name": "stdout",
          "text": [
            "<class 'pandas.core.frame.DataFrame'>\n",
            "Int64Index: 3220868 entries, 0 to 29080911\n",
            "Data columns (total 3 columns):\n",
            " #   Column       Dtype         \n",
            "---  ------       -----         \n",
            " 0   Patient-Uid  object        \n",
            " 1   Date         datetime64[ns]\n",
            " 2   Incident     object        \n",
            "dtypes: datetime64[ns](1), object(2)\n",
            "memory usage: 98.3+ MB\n"
          ]
        }
      ]
    },
    {
      "cell_type": "code",
      "source": [
        "# Filter data for \"Target Drug\" patients\n",
        "target_drug_data = data[data['Incident'] == 'TARGET DRUG']\n",
        "\n",
        "if target_drug_data.empty:\n",
        "    print(\"No patients have taken the 'Target Drug'.\")\n",
        "else:\n",
        "    # Drop-off counts\n",
        "    dropoff_counts = target_drug_data.groupby(pd.Grouper(key='Date', freq='M'))['Patient-Uid'].nunique()\n",
        "\n",
        "    # Drop-off rate\n",
        "    num_months_with_dropoff = dropoff_counts[dropoff_counts > 0].count()\n",
        "    dropoff_rate = num_months_with_dropoff / dropoff_counts.shape[0]\n",
        "\n",
        "    if dropoff_rate > 0:\n",
        "        print(\"Drop-off Rate:\")\n",
        "        print(f\"{dropoff_rate:.2%} of patients dropped off each month.\")\n",
        "    else:\n",
        "        print(\"No instances of drop-off.\")\n",
        "\n",
        "    # Events driving drop-off\n",
        "    dropoff_events = target_drug_data[target_drug_data['Patient-Uid'].duplicated(keep=False)]['Incident']\n",
        "    print(\"\\nEvents driving drop-off (Sample):\")\n",
        "    print(dropoff_events.head(5))\n",
        "\n",
        "    dropoff_events_counts = dropoff_events.value_counts()\n",
        "    if not dropoff_events_counts.empty:\n",
        "        print(\"\\nEvents driving drop-off:\")\n",
        "        for event, count in dropoff_events_counts.items():\n",
        "            print(f\"Event: {event}\\tCount: {count}\")\n",
        "    else:\n",
        "        print(\"No specific events identified.\")"
      ],
      "metadata": {
        "colab": {
          "base_uri": "https://localhost:8080/"
        },
        "id": "7f2oNZ9FDQy7",
        "outputId": "6611c0b4-84c4-4d64-a039-ee12143f6dc6"
      },
      "execution_count": 33,
      "outputs": [
        {
          "output_type": "stream",
          "name": "stdout",
          "text": [
            "Drop-off Rate:\n",
            "100.00% of patients dropped off each month.\n",
            "\n",
            "Events driving drop-off (Sample):\n",
            "3294791    TARGET DRUG\n",
            "3296990    TARGET DRUG\n",
            "3305387    TARGET DRUG\n",
            "3309423    TARGET DRUG\n",
            "3309494    TARGET DRUG\n",
            "Name: Incident, dtype: object\n",
            "\n",
            "Events driving drop-off:\n",
            "Event: TARGET DRUG\tCount: 66322\n"
          ]
        }
      ]
    },
    {
      "cell_type": "markdown",
      "source": [
        "## Load the test data\n"
      ],
      "metadata": {
        "id": "n8YZmb6MGGVB"
      }
    },
    {
      "cell_type": "code",
      "source": [
        "data= pd.read_parquet(test_path)"
      ],
      "metadata": {
        "id": "VoRnY2g9E5WC"
      },
      "execution_count": 34,
      "outputs": []
    },
    {
      "cell_type": "code",
      "source": [
        "data"
      ],
      "metadata": {
        "colab": {
          "base_uri": "https://localhost:8080/",
          "height": 423
        },
        "id": "jObV1zYaGM7x",
        "outputId": "fdb63f02-5f3b-4a37-9edf-6bf4b151ce88"
      },
      "execution_count": 35,
      "outputs": [
        {
          "output_type": "execute_result",
          "data": {
            "text/plain": [
              "                                  Patient-Uid       Date        Incident\n",
              "0        a0f9e8a9-1c7c-11ec-8d25-16262ee38c7f 2016-12-08  SYMPTOM_TYPE_0\n",
              "1        a0f9e8a9-1c7c-11ec-8d25-16262ee38c7f 2018-10-17     DRUG_TYPE_0\n",
              "2        a0f9e8a9-1c7c-11ec-8d25-16262ee38c7f 2017-12-01     DRUG_TYPE_2\n",
              "3        a0f9e8a9-1c7c-11ec-8d25-16262ee38c7f 2018-12-05     DRUG_TYPE_1\n",
              "4        a0f9e8a9-1c7c-11ec-8d25-16262ee38c7f 2017-11-04  SYMPTOM_TYPE_0\n",
              "...                                       ...        ...             ...\n",
              "1372854  a10272c9-1c7c-11ec-b3ce-16262ee38c7f 2017-05-11    DRUG_TYPE_13\n",
              "1372856  a10272c9-1c7c-11ec-b3ce-16262ee38c7f 2018-08-22     DRUG_TYPE_2\n",
              "1372857  a10272c9-1c7c-11ec-b3ce-16262ee38c7f 2017-02-04     DRUG_TYPE_2\n",
              "1372858  a10272c9-1c7c-11ec-b3ce-16262ee38c7f 2017-09-25     DRUG_TYPE_8\n",
              "1372859  a10272c9-1c7c-11ec-b3ce-16262ee38c7f 2017-05-19     DRUG_TYPE_7\n",
              "\n",
              "[1065524 rows x 3 columns]"
            ],
            "text/html": [
              "\n",
              "  <div id=\"df-e8ba18f4-c1c3-40d6-bab4-4b94d5018653\">\n",
              "    <div class=\"colab-df-container\">\n",
              "      <div>\n",
              "<style scoped>\n",
              "    .dataframe tbody tr th:only-of-type {\n",
              "        vertical-align: middle;\n",
              "    }\n",
              "\n",
              "    .dataframe tbody tr th {\n",
              "        vertical-align: top;\n",
              "    }\n",
              "\n",
              "    .dataframe thead th {\n",
              "        text-align: right;\n",
              "    }\n",
              "</style>\n",
              "<table border=\"1\" class=\"dataframe\">\n",
              "  <thead>\n",
              "    <tr style=\"text-align: right;\">\n",
              "      <th></th>\n",
              "      <th>Patient-Uid</th>\n",
              "      <th>Date</th>\n",
              "      <th>Incident</th>\n",
              "    </tr>\n",
              "  </thead>\n",
              "  <tbody>\n",
              "    <tr>\n",
              "      <th>0</th>\n",
              "      <td>a0f9e8a9-1c7c-11ec-8d25-16262ee38c7f</td>\n",
              "      <td>2016-12-08</td>\n",
              "      <td>SYMPTOM_TYPE_0</td>\n",
              "    </tr>\n",
              "    <tr>\n",
              "      <th>1</th>\n",
              "      <td>a0f9e8a9-1c7c-11ec-8d25-16262ee38c7f</td>\n",
              "      <td>2018-10-17</td>\n",
              "      <td>DRUG_TYPE_0</td>\n",
              "    </tr>\n",
              "    <tr>\n",
              "      <th>2</th>\n",
              "      <td>a0f9e8a9-1c7c-11ec-8d25-16262ee38c7f</td>\n",
              "      <td>2017-12-01</td>\n",
              "      <td>DRUG_TYPE_2</td>\n",
              "    </tr>\n",
              "    <tr>\n",
              "      <th>3</th>\n",
              "      <td>a0f9e8a9-1c7c-11ec-8d25-16262ee38c7f</td>\n",
              "      <td>2018-12-05</td>\n",
              "      <td>DRUG_TYPE_1</td>\n",
              "    </tr>\n",
              "    <tr>\n",
              "      <th>4</th>\n",
              "      <td>a0f9e8a9-1c7c-11ec-8d25-16262ee38c7f</td>\n",
              "      <td>2017-11-04</td>\n",
              "      <td>SYMPTOM_TYPE_0</td>\n",
              "    </tr>\n",
              "    <tr>\n",
              "      <th>...</th>\n",
              "      <td>...</td>\n",
              "      <td>...</td>\n",
              "      <td>...</td>\n",
              "    </tr>\n",
              "    <tr>\n",
              "      <th>1372854</th>\n",
              "      <td>a10272c9-1c7c-11ec-b3ce-16262ee38c7f</td>\n",
              "      <td>2017-05-11</td>\n",
              "      <td>DRUG_TYPE_13</td>\n",
              "    </tr>\n",
              "    <tr>\n",
              "      <th>1372856</th>\n",
              "      <td>a10272c9-1c7c-11ec-b3ce-16262ee38c7f</td>\n",
              "      <td>2018-08-22</td>\n",
              "      <td>DRUG_TYPE_2</td>\n",
              "    </tr>\n",
              "    <tr>\n",
              "      <th>1372857</th>\n",
              "      <td>a10272c9-1c7c-11ec-b3ce-16262ee38c7f</td>\n",
              "      <td>2017-02-04</td>\n",
              "      <td>DRUG_TYPE_2</td>\n",
              "    </tr>\n",
              "    <tr>\n",
              "      <th>1372858</th>\n",
              "      <td>a10272c9-1c7c-11ec-b3ce-16262ee38c7f</td>\n",
              "      <td>2017-09-25</td>\n",
              "      <td>DRUG_TYPE_8</td>\n",
              "    </tr>\n",
              "    <tr>\n",
              "      <th>1372859</th>\n",
              "      <td>a10272c9-1c7c-11ec-b3ce-16262ee38c7f</td>\n",
              "      <td>2017-05-19</td>\n",
              "      <td>DRUG_TYPE_7</td>\n",
              "    </tr>\n",
              "  </tbody>\n",
              "</table>\n",
              "<p>1065524 rows × 3 columns</p>\n",
              "</div>\n",
              "      <button class=\"colab-df-convert\" onclick=\"convertToInteractive('df-e8ba18f4-c1c3-40d6-bab4-4b94d5018653')\"\n",
              "              title=\"Convert this dataframe to an interactive table.\"\n",
              "              style=\"display:none;\">\n",
              "        \n",
              "  <svg xmlns=\"http://www.w3.org/2000/svg\" height=\"24px\"viewBox=\"0 0 24 24\"\n",
              "       width=\"24px\">\n",
              "    <path d=\"M0 0h24v24H0V0z\" fill=\"none\"/>\n",
              "    <path d=\"M18.56 5.44l.94 2.06.94-2.06 2.06-.94-2.06-.94-.94-2.06-.94 2.06-2.06.94zm-11 1L8.5 8.5l.94-2.06 2.06-.94-2.06-.94L8.5 2.5l-.94 2.06-2.06.94zm10 10l.94 2.06.94-2.06 2.06-.94-2.06-.94-.94-2.06-.94 2.06-2.06.94z\"/><path d=\"M17.41 7.96l-1.37-1.37c-.4-.4-.92-.59-1.43-.59-.52 0-1.04.2-1.43.59L10.3 9.45l-7.72 7.72c-.78.78-.78 2.05 0 2.83L4 21.41c.39.39.9.59 1.41.59.51 0 1.02-.2 1.41-.59l7.78-7.78 2.81-2.81c.8-.78.8-2.07 0-2.86zM5.41 20L4 18.59l7.72-7.72 1.47 1.35L5.41 20z\"/>\n",
              "  </svg>\n",
              "      </button>\n",
              "      \n",
              "  <style>\n",
              "    .colab-df-container {\n",
              "      display:flex;\n",
              "      flex-wrap:wrap;\n",
              "      gap: 12px;\n",
              "    }\n",
              "\n",
              "    .colab-df-convert {\n",
              "      background-color: #E8F0FE;\n",
              "      border: none;\n",
              "      border-radius: 50%;\n",
              "      cursor: pointer;\n",
              "      display: none;\n",
              "      fill: #1967D2;\n",
              "      height: 32px;\n",
              "      padding: 0 0 0 0;\n",
              "      width: 32px;\n",
              "    }\n",
              "\n",
              "    .colab-df-convert:hover {\n",
              "      background-color: #E2EBFA;\n",
              "      box-shadow: 0px 1px 2px rgba(60, 64, 67, 0.3), 0px 1px 3px 1px rgba(60, 64, 67, 0.15);\n",
              "      fill: #174EA6;\n",
              "    }\n",
              "\n",
              "    [theme=dark] .colab-df-convert {\n",
              "      background-color: #3B4455;\n",
              "      fill: #D2E3FC;\n",
              "    }\n",
              "\n",
              "    [theme=dark] .colab-df-convert:hover {\n",
              "      background-color: #434B5C;\n",
              "      box-shadow: 0px 1px 3px 1px rgba(0, 0, 0, 0.15);\n",
              "      filter: drop-shadow(0px 1px 2px rgba(0, 0, 0, 0.3));\n",
              "      fill: #FFFFFF;\n",
              "    }\n",
              "  </style>\n",
              "\n",
              "      <script>\n",
              "        const buttonEl =\n",
              "          document.querySelector('#df-e8ba18f4-c1c3-40d6-bab4-4b94d5018653 button.colab-df-convert');\n",
              "        buttonEl.style.display =\n",
              "          google.colab.kernel.accessAllowed ? 'block' : 'none';\n",
              "\n",
              "        async function convertToInteractive(key) {\n",
              "          const element = document.querySelector('#df-e8ba18f4-c1c3-40d6-bab4-4b94d5018653');\n",
              "          const dataTable =\n",
              "            await google.colab.kernel.invokeFunction('convertToInteractive',\n",
              "                                                     [key], {});\n",
              "          if (!dataTable) return;\n",
              "\n",
              "          const docLinkHtml = 'Like what you see? Visit the ' +\n",
              "            '<a target=\"_blank\" href=https://colab.research.google.com/notebooks/data_table.ipynb>data table notebook</a>'\n",
              "            + ' to learn more about interactive tables.';\n",
              "          element.innerHTML = '';\n",
              "          dataTable['output_type'] = 'display_data';\n",
              "          await google.colab.output.renderOutput(dataTable, element);\n",
              "          const docLink = document.createElement('div');\n",
              "          docLink.innerHTML = docLinkHtml;\n",
              "          element.appendChild(docLink);\n",
              "        }\n",
              "      </script>\n",
              "    </div>\n",
              "  </div>\n",
              "  "
            ]
          },
          "metadata": {},
          "execution_count": 35
        }
      ]
    },
    {
      "cell_type": "code",
      "source": [
        "data.info()"
      ],
      "metadata": {
        "colab": {
          "base_uri": "https://localhost:8080/"
        },
        "id": "vZJXaP-nGQCo",
        "outputId": "1768be79-8fc0-4834-b1a3-862015594844"
      },
      "execution_count": 36,
      "outputs": [
        {
          "output_type": "stream",
          "name": "stdout",
          "text": [
            "<class 'pandas.core.frame.DataFrame'>\n",
            "Int64Index: 1065524 entries, 0 to 1372859\n",
            "Data columns (total 3 columns):\n",
            " #   Column       Non-Null Count    Dtype         \n",
            "---  ------       --------------    -----         \n",
            " 0   Patient-Uid  1065524 non-null  object        \n",
            " 1   Date         1065524 non-null  datetime64[ns]\n",
            " 2   Incident     1065524 non-null  object        \n",
            "dtypes: datetime64[ns](1), object(2)\n",
            "memory usage: 32.5+ MB\n"
          ]
        }
      ]
    },
    {
      "cell_type": "code",
      "source": [
        "# Filter data for \"Target Drug\" patients\n",
        "target_drug_data = data[data['Incident'] == 'TARGET DRUG']\n",
        "\n",
        "if target_drug_data.empty:\n",
        "    print(\"No patients have taken the 'Target Drug'.\")\n",
        "else:\n",
        "    # Drop-off counts\n",
        "    dropoff_counts = target_drug_data.groupby(pd.Grouper(key='Date', freq='M'))['Patient-Uid'].nunique()\n",
        "    # Drop-off rate\n",
        "    num_months_with_dropoff = dropoff_counts[dropoff_counts > 0].count()\n",
        "    dropoff_rate = num_months_with_dropoff / dropoff_counts.shape[0]\n",
        "\n",
        "    if dropoff_rate > 0:\n",
        "        print(\"Drop-off Rate:\")\n",
        "        print(f\"{dropoff_rate:.2%} of patients dropped off each month.\")\n",
        "    else:\n",
        "        print(\"No instances of drop-off.\")\n",
        "\n",
        "    # Events driving drop-off\n",
        "    dropoff_events = target_drug_data[target_drug_data['Patient-Uid'].duplicated(keep=False)]['Incident']\n",
        "    print(\"\\nEvents driving drop-off (Sample):\")\n",
        "    print(dropoff_events.head(5))\n",
        "\n",
        "    dropoff_events_counts = dropoff_events.value_counts()\n",
        "    if not dropoff_events_counts.empty:\n",
        "        print(\"\\nEvents driving drop-off:\")\n",
        "        for event, count in dropoff_events_counts.items():\n",
        "            print(f\"Event: {event}\\tCount: {count}\")\n",
        "    else:\n",
        "        print(\"No specific events identified.\")"
      ],
      "metadata": {
        "colab": {
          "base_uri": "https://localhost:8080/"
        },
        "id": "lEpk_Nz0GSjd",
        "outputId": "e9410a5c-ccb1-4023-9cb0-e661c75e22e0"
      },
      "execution_count": 37,
      "outputs": [
        {
          "output_type": "stream",
          "name": "stdout",
          "text": [
            "No patients have taken the 'Target Drug'.\n"
          ]
        }
      ]
    }
  ]
}